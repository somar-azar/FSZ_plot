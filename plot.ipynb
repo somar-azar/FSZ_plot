{
 "cells": [
  {
   "cell_type": "code",
   "execution_count": 43,
   "metadata": {
    "pycharm": {
     "name": "#%%\n"
    }
   },
   "outputs": [
    {
     "data": {
      "application/vnd.jupyter.widget-view+json": {
       "model_id": "a97db62cf3664112ad142106e3f68677",
       "version_major": 2,
       "version_minor": 0
      },
      "text/plain": [
       "interactive(children=(Text(value='data', description='File path', style=DescriptionStyle(description_width='in…"
      ]
     },
     "metadata": {},
     "output_type": "display_data"
    },
    {
     "data": {
      "application/vnd.jupyter.widget-view+json": {
       "model_id": "c7b95e0407e24ead94bd73066370f356",
       "version_major": 2,
       "version_minor": 0
      },
      "text/plain": [
       "Button(description='Savefig', style=ButtonStyle())"
      ]
     },
     "metadata": {},
     "output_type": "display_data"
    }
   ],
   "source": [
    "%matplotlib inline\n",
    "#%matplotlib widget\n",
    "import matplotlib as mpl\n",
    "import matplotlib.pyplot as plt\n",
    "import numpy as np\n",
    "from os import listdir\n",
    "from os.path import isfile, join\n",
    "import pandas as pd\n",
    "from ipywidgets import interact, interactive, fixed, interact_manual, Button\n",
    "import ipywidgets as widgets\n",
    "from IPython.display import display, Javascript\n",
    "import math\n",
    "from ipyfilechooser import FileChooser\n",
    "\n",
    "\n",
    "\n",
    "\n",
    "\n",
    "#plotting function\n",
    "def plotter(data_range, x, y, units_x, units_y, grid_x_spacing, grid_y_spacing):\n",
    "    global fig1\n",
    "    plt.rcParams[\"font.family\"] = \"Arial\"\n",
    "    fig1 = plt.figure(figsize=(8/2.52, 6/2.52))\n",
    "    x_plot = data_array[x][:data_range]\n",
    "    y_plot = data_array[y][:data_range]\n",
    "    plt.plot(x_plot, y_plot, color='black',linewidth=1\n",
    "            )\n",
    "    x_label = r'$\\mathbf{DD1}$' + r\" $\\mathbf{{[{0}]}}$\".format(units_x)\n",
    "    y_label = r'$\\mathbf{Spannung}$ $\\mathbf{\\sigma}$'  + r\" $\\mathbf{{[{0}]}}$\".format(units_y)\n",
    "    plt.xlabel(x_label, fontsize=10)\n",
    "    plt.ylabel(y_label, fontsize=10)\n",
    "    plt.grid(visible='Yes', which='major', axis='both', color='black')\n",
    "    plt.xlim([0,None])\n",
    "    plt.xticks(np.arange(0, max(x_plot)+grid_x_spacing/2, grid_x_spacing))\n",
    "    #plt.xticks(fontsize=13)\n",
    "    plt.ylim([0,None])\n",
    "    plt.yticks(np.arange(0, max(y_plot)+grid_y_spacing/2, grid_y_spacing))\n",
    "    #plt.yticks(fontsize=13)\n",
    "    plt.show()\n",
    "    \n",
    "def import_data(f, c_sect):\n",
    "    global data_array \n",
    "    global headers  \n",
    "    \n",
    "    f = '{0}/{1}'.format(file_path0, f)\n",
    "\n",
    "    #import data array to be plotted\n",
    "    data_array = pd.read_table(f,skiprows=[1], delimiter=';', decimal=',')\n",
    "\n",
    "    #import headers of data\n",
    "    headers = pd.read_csv(f, nrows=1, delimiter=';').columns.tolist()\n",
    "\n",
    "    #move force to origin point\n",
    "    data_array['Kraft'] = data_array['Kraft'] - data_array['Kraft'][0]\n",
    "\n",
    "    #add stress according to cross section\n",
    "    data_array['Spannung'] = 1000*data_array['Kraft']/c_sect\n",
    "    \n",
    "    headers.append('Spannung')\n",
    "    \n",
    "\n",
    "    plot_min = math.floor(0.1*len(data_array))\n",
    "    plot_max = math.floor(len(data_array))\n",
    "    plot_def = math.floor(0.7*len(data_array))\n",
    "    plot_step = math.floor(0.01*len(data_array))\n",
    "\n",
    "    interact(plotter, data_range=widgets.IntSlider(min=plot_min, max=plot_max, step=plot_step, value=plot_def, style = style),\n",
    "         x=widgets.Dropdown(options=headers, value=headers[3], style = style),\n",
    "         y=widgets.Dropdown(options=headers, value=headers[-1], style = style),\n",
    "         units_x = widgets.Text(value='‰', description='x units', style = style),\n",
    "         units_y = widgets.Text(value='MPa', description='y units', style = style),\n",
    "         grid_x_spacing = widgets.FloatText(value=2, description='grid x spacing', style = style),\n",
    "         grid_y_spacing = widgets.FloatText(value=500, description='grid y spacing', style = style, step=250)\n",
    "        ) \n",
    "    \n",
    "    return(data_array)\n",
    "    return(headers)\n",
    "\n",
    "def get_path(file_path):\n",
    "    global file_path0\n",
    "    \n",
    "    file_path0 = file_path\n",
    "    \n",
    "    # get file list\n",
    "    file_list = [f for f in listdir(file_path) if isfile(join(file_path, f))]\n",
    "    #file_list = ['{0}/{1}'.format(file_path, f) for f in listdir(file_path) if isfile(join(file_path, f))]    \n",
    "    \n",
    "    interact(import_data,\n",
    "         f=widgets.Dropdown(options=file_list, description='File', value = file_list[0],style = style),\n",
    "         c_sect=widgets.FloatText(value=3.62, description='fiber cross section', style = style)\n",
    "        )\n",
    "    \n",
    "#widgets text style\n",
    "style = {'description_width': 'initial'}\n",
    "    \n",
    "interact(get_path,\n",
    "         file_path = widgets.Text(value='data', description='File path', style = style),\n",
    "        )\n",
    "\n",
    "\n",
    "def save_fig_button(t):\n",
    "    fig1.savefig(\"test.png\", dpi=1200, bbox_inches = \n",
    "                'tight')\n",
    "\n",
    "\n",
    "button = Button(description=\"Savefig\")\n",
    "display(button)\n",
    "\n",
    "button.on_click(save_fig_button)"
   ]
  },
  {
   "cell_type": "code",
   "execution_count": 2,
   "metadata": {},
   "outputs": [
    {
     "data": {
      "application/vnd.jupyter.widget-view+json": {
       "model_id": "5563d53598e2478e9ff908a7b3b5002a",
       "version_major": 2,
       "version_minor": 0
      },
      "text/plain": [
       "FileChooser(path='/Users/somar/PycharmProjects/plot_abz', filename='', title='', show_hidden=False, select_des…"
      ]
     },
     "metadata": {},
     "output_type": "display_data"
    },
    {
     "name": "stdout",
     "output_type": "stream",
     "text": [
      "None\n",
      "None\n",
      "None\n"
     ]
    }
   ],
   "source": []
  }
 ],
 "metadata": {
  "kernelspec": {
   "display_name": "Python [conda env:plot_abz] *",
   "language": "python",
   "name": "conda-env-plot_abz-py"
  },
  "language_info": {
   "codemirror_mode": {
    "name": "ipython",
    "version": 3
   },
   "file_extension": ".py",
   "mimetype": "text/x-python",
   "name": "python",
   "nbconvert_exporter": "python",
   "pygments_lexer": "ipython3",
   "version": "3.8.12"
  }
 },
 "nbformat": 4,
 "nbformat_minor": 1
}
